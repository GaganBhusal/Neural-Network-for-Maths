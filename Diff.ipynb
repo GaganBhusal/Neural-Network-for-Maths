{
 "cells": [
  {
   "cell_type": "markdown",
   "id": "9f91d398-4d75-4057-aca7-9de7997a25b9",
   "metadata": {},
   "source": [
    "This Notebook demonstrates the use of Neural Network to approximate the solution from its differential equation."
   ]
  },
  {
   "cell_type": "markdown",
   "id": "3bb8ba36-1622-4b31-ad36-ffbe007b5ea9",
   "metadata": {},
   "source": [
    "EQUATION : dy/dx + y = 0"
   ]
  },
  {
   "cell_type": "code",
   "execution_count": 3,
   "id": "6edd69fc-76e8-491b-8593-7936bd21704f",
   "metadata": {},
   "outputs": [],
   "source": [
    "import numpy as np\n",
    "import pandas as pd\n",
    "import matplotlib.pyplot as plt"
   ]
  },
  {
   "cell_type": "markdown",
   "id": "3681081a-581d-43cb-b253-16f201cbfcd0",
   "metadata": {},
   "source": [
    "Importing Pytorch"
   ]
  },
  {
   "cell_type": "code",
   "execution_count": 5,
   "id": "2ab6dfe1-f4de-4fc2-8d60-6c46ab7af218",
   "metadata": {},
   "outputs": [],
   "source": [
    "import torch\n",
    "import torch.nn as nn"
   ]
  },
  {
   "cell_type": "markdown",
   "id": "fd90cc5c-d4c1-4b73-8513-30f8ef122137",
   "metadata": {},
   "source": [
    "Creating the Neural Netwrok"
   ]
  },
  {
   "cell_type": "code",
   "execution_count": 7,
   "id": "f33fbd8f-6186-45a3-9164-01c95dc9c83f",
   "metadata": {},
   "outputs": [],
   "source": [
    "class MyNN(nn.Module):\n",
    "    def __init__(self):\n",
    "        super(MyNN, self).__init__()\n",
    "        self.network = nn.Sequential(\n",
    "            nn.Linear(1, 32),\n",
    "            nn.Tanh(),\n",
    "            nn.Linear(32, 32),\n",
    "            nn.Tanh(),\n",
    "            nn.Linear(32, 1)\n",
    "        )\n",
    "\n",
    "    def forward(self, x):\n",
    "        return 1 + self.network(x)  #HERE THE ONE ADDED REPRESENTS THE INITIAL CONDITION WHEN X = 0, Y = 1"
   ]
  },
  {
   "cell_type": "markdown",
   "id": "25ebef9c-69c8-42b1-b27e-81a568efc825",
   "metadata": {},
   "source": [
    "Defining an Loss Function which penalizes the model when its output deviate from 0."
   ]
  },
  {
   "cell_type": "code",
   "execution_count": 9,
   "id": "6bb3d429-a5e0-429a-bd01-7086e2c50842",
   "metadata": {},
   "outputs": [],
   "source": [
    "def loss_funn(model, x):\n",
    "    y = model(x)\n",
    "    dy_dt = torch.autograd.grad(y, x, torch.ones_like(y), create_graph = True)[0]\n",
    "    return torch.mean((dy_dt + y) ** 2)   #dy/dx + y = 0"
   ]
  },
  {
   "cell_type": "markdown",
   "id": "b163c4f8-5a19-44b4-b87f-ce0948222f4a",
   "metadata": {},
   "source": [
    "Defining the training sequence."
   ]
  },
  {
   "cell_type": "code",
   "execution_count": 11,
   "id": "ac1f35bb-c0bb-4b81-9c58-d8102c83f09f",
   "metadata": {},
   "outputs": [],
   "source": [
    "def train(model, optimizer, epochs = 1000):\n",
    "    x = torch.linspace(0, 10, 100).unsqueeze(1).requires_grad_(True)\n",
    "    for epoch in range(epochs):\n",
    "        optimizer.zero_grad()\n",
    "        loss = loss_funn(model, x)\n",
    "        loss.backward()\n",
    "        optimizer.step()\n",
    "        if epoch % 50 == 0:\n",
    "            print(f\"Epochs : {epoch + 1}\\tLoss : {loss.item()}\\n\")\n",
    "\n",
    "    return x, model(x).detach().numpy()"
   ]
  },
  {
   "cell_type": "code",
   "execution_count": 12,
   "id": "3717211c-d898-4d92-91ff-7cda59b469ad",
   "metadata": {},
   "outputs": [],
   "source": [
    "model = MyNN()\n",
    "optimizer = torch.optim.Adam(model.parameters(), lr = 0.001)"
   ]
  },
  {
   "cell_type": "code",
   "execution_count": 13,
   "id": "9e2a0888-5518-4d9c-a156-94024d9a6108",
   "metadata": {},
   "outputs": [
    {
     "name": "stdout",
     "output_type": "stream",
     "text": [
      "Epochs : 1\tLoss : 0.6930808424949646\n",
      "\n",
      "Epochs : 51\tLoss : 0.001386322663165629\n",
      "\n",
      "Epochs : 101\tLoss : 0.00031876203138381243\n",
      "\n",
      "Epochs : 151\tLoss : 0.00020133107318542898\n",
      "\n",
      "Epochs : 201\tLoss : 0.00015649294073227793\n",
      "\n",
      "Epochs : 251\tLoss : 0.00012583052739501\n",
      "\n",
      "Epochs : 301\tLoss : 0.00010242357529932633\n",
      "\n",
      "Epochs : 351\tLoss : 8.413413888774812e-05\n",
      "\n",
      "Epochs : 401\tLoss : 6.966422370169312e-05\n",
      "\n",
      "Epochs : 451\tLoss : 5.815537952003069e-05\n",
      "\n",
      "Epochs : 501\tLoss : 4.899079067399725e-05\n",
      "\n",
      "Epochs : 551\tLoss : 4.168745726929046e-05\n",
      "\n",
      "Epochs : 601\tLoss : 3.585244849091396e-05\n",
      "\n",
      "Epochs : 651\tLoss : 3.116235166089609e-05\n",
      "\n",
      "Epochs : 701\tLoss : 2.7356069040251896e-05\n",
      "\n",
      "Epochs : 751\tLoss : 2.4226768800872378e-05\n",
      "\n",
      "Epochs : 801\tLoss : 2.161462361982558e-05\n",
      "\n",
      "Epochs : 851\tLoss : 1.9398597942199558e-05\n",
      "\n",
      "Epochs : 901\tLoss : 1.7487487639300525e-05\n",
      "\n",
      "Epochs : 951\tLoss : 1.5815385268069804e-05\n",
      "\n"
     ]
    }
   ],
   "source": [
    "x, y_pred = train(model, optimizer)"
   ]
  },
  {
   "cell_type": "markdown",
   "id": "96479e07-af9d-4f2e-b038-1bc4a3c9b74b",
   "metadata": {},
   "source": [
    "PLOTTING THE INPUT 'X' AND PREDICTED 'Y'"
   ]
  },
  {
   "cell_type": "code",
   "execution_count": 15,
   "id": "f43ee91d-137a-490e-9c84-b0cf3a08fca3",
   "metadata": {},
   "outputs": [
    {
     "data": {
      "text/plain": [
       "<matplotlib.legend.Legend at 0x75c73d33a870>"
      ]
     },
     "execution_count": 15,
     "metadata": {},
     "output_type": "execute_result"
    },
    {
     "data": {
      "image/png": "[encoded data removed]",
      "text/plain": [
       "<Figure size 640x480 with 1 Axes>"
      ]
     },
     "metadata": {},
     "output_type": "display_data"
    }
   ],
   "source": [
    "plt.plot(x.detach().numpy(), y_pred, label = 'Solution')\n",
    "plt.grid()\n",
    "plt.xlabel('X')\n",
    "plt.ylabel('Y')\n",
    "plt.legend()\n"
   ]
  },
  {
   "cell_type": "code",
   "execution_count": null,
   "id": "2fae7073-1f9d-4fd3-87c1-55cb114a7ab3",
   "metadata": {},
   "outputs": [],
   "source": []
  }
 ],
 "metadata": {
  "kernelspec": {
   "display_name": "Python 3 (ipykernel)",
   "language": "python",
   "name": "python3"
  },
  "language_info": {
   "codemirror_mode": {
    "name": "ipython",
    "version": 3
   },
   "file_extension": ".py",
   "mimetype": "text/x-python",
   "name": "python",
   "nbconvert_exporter": "python",
   "pygments_lexer": "ipython3",
   "version": "3.12.4"
  }
 },
 "nbformat": 4,
 "nbformat_minor": 5
}
